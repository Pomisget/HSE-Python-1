{
 "cells": [
  {
   "cell_type": "markdown",
   "metadata": {},
   "source": [
    "### Множество - Set\n",
    "***\n",
    "* Наборы __<font color='blue'>неупорядочены</font>__.\n",
    "* Набор элементов __<font color='blue'>уникален</font>__. Повторяющиеся элементы не допускаются.\n",
    "* Сам набор может быть изменен, но элементы, содержащиеся в наборе, должны иметь __<font color='blue'>неизменяемый тип</font>__."
   ]
  },
  {
   "cell_type": "code",
   "execution_count": 1,
   "metadata": {
    "ExecuteTime": {
     "end_time": "2019-10-08T21:59:36.936183Z",
     "start_time": "2019-10-08T21:59:36.929573Z"
    }
   },
   "outputs": [
    {
     "name": "stdout",
     "output_type": "stream",
     "text": [
      "{'MIPT', 'HSE', 'MSU'}\n"
     ]
    }
   ],
   "source": [
    "a = set()\n",
    "a = set(['HSE', 'MSU', 'HSE', 'MIPT'])\n",
    "print(a)"
   ]
  },
  {
   "cell_type": "code",
   "execution_count": 2,
   "metadata": {
    "ExecuteTime": {
     "end_time": "2019-10-08T21:59:36.948459Z",
     "start_time": "2019-10-08T21:59:36.939830Z"
    }
   },
   "outputs": [
    {
     "name": "stdout",
     "output_type": "stream",
     "text": [
      "Items in set a: {'C++', 3.14, 7, (1, 2, 'HSE'), 'Python'}\n",
      "Number of set a: 5\n"
     ]
    }
   ],
   "source": [
    "a = {(1, 2, 'HSE'), 7, 'Python', 'C++', 3.14}\n",
    "print('Items in set a:', a)\n",
    "print('Number of set a:', len(a))"
   ]
  },
  {
   "cell_type": "markdown",
   "metadata": {
    "ExecuteTime": {
     "end_time": "2019-10-08T21:27:56.081469Z",
     "start_time": "2019-10-08T21:27:56.074790Z"
    }
   },
   "source": [
    "### Методы в Set\n",
    "***\n",
    "* add (добавление)\n",
    "    * s.add(5)\n",
    "***\n",
    "* union (объединение): \n",
    "    * s1 | s2\n",
    "    * s1.union(s2)\n",
    "***\n",
    "* intersection (пересечение):\n",
    "    * s1 & s2\n",
    "    * s1.intersection(s2)\n",
    "***\n",
    "* difference (разница):\n",
    "    * s1 - s2\n",
    "    * s1.difference(s2)"
   ]
  },
  {
   "cell_type": "code",
   "execution_count": 3,
   "metadata": {
    "ExecuteTime": {
     "end_time": "2019-10-08T21:59:36.960291Z",
     "start_time": "2019-10-08T21:59:36.953350Z"
    }
   },
   "outputs": [
    {
     "name": "stdout",
     "output_type": "stream",
     "text": [
      "{1, 3, 5}\n"
     ]
    }
   ],
   "source": [
    "# Add\n",
    "s = {1, 3}\n",
    "s.add(5)\n",
    "print(s)"
   ]
  },
  {
   "cell_type": "code",
   "execution_count": 4,
   "metadata": {
    "ExecuteTime": {
     "end_time": "2019-10-08T21:59:36.973372Z",
     "start_time": "2019-10-08T21:59:36.964756Z"
    }
   },
   "outputs": [
    {
     "name": "stdout",
     "output_type": "stream",
     "text": [
      "{'USA', 'HSE', 'MSU', 'RUSSIA'}\n",
      "{'USA', 'HSE', 'MSU', 'RUSSIA'}\n"
     ]
    }
   ],
   "source": [
    "# Union 1\n",
    "s1 = {'HSE', 'MSU'}\n",
    "s2 = {'USA', 'RUSSIA', 'HSE'}\n",
    "print(s1 | s2)\n",
    "print(s1.union(s2))"
   ]
  },
  {
   "cell_type": "code",
   "execution_count": 5,
   "metadata": {
    "ExecuteTime": {
     "end_time": "2019-10-08T21:59:36.988787Z",
     "start_time": "2019-10-08T21:59:36.979206Z"
    }
   },
   "outputs": [
    {
     "name": "stdout",
     "output_type": "stream",
     "text": [
      "{1, 2, 3, 4, 5, 6, 7}\n",
      "{1, 2, 3, 4, 5, 6, 7}\n"
     ]
    }
   ],
   "source": [
    "# Union 2\n",
    "a = {1, 2, 3, 4}\n",
    "b = {2, 3, 4, 5}\n",
    "c = {3, 4, 5, 6}\n",
    "d = {4, 5, 6, 7}\n",
    "print(a.union(b, c, d))\n",
    "print(a | b | c | d)"
   ]
  },
  {
   "cell_type": "code",
   "execution_count": 6,
   "metadata": {
    "ExecuteTime": {
     "end_time": "2019-10-08T21:59:37.000187Z",
     "start_time": "2019-10-08T21:59:36.995564Z"
    }
   },
   "outputs": [
    {
     "name": "stdout",
     "output_type": "stream",
     "text": [
      "{'HSE'}\n",
      "{'HSE'}\n"
     ]
    }
   ],
   "source": [
    "# Intersection\n",
    "s1 = {'HSE', 'MSU'}\n",
    "s2 = {'USA', 'RUSSIA', 'HSE'}\n",
    "print(s1 & s2)\n",
    "print(s1.intersection(s2))"
   ]
  },
  {
   "cell_type": "code",
   "execution_count": 7,
   "metadata": {
    "ExecuteTime": {
     "end_time": "2019-10-08T21:59:37.006437Z",
     "start_time": "2019-10-08T21:59:37.002339Z"
    }
   },
   "outputs": [
    {
     "name": "stdout",
     "output_type": "stream",
     "text": [
      "{'MSU'}\n",
      "{'MSU'}\n"
     ]
    }
   ],
   "source": [
    "# Difference\n",
    "s1 = {'HSE', 'MSU'}\n",
    "s2 = {'USA', 'RUSSIA', 'HSE'}\n",
    "print(s1 - s2)\n",
    "print(s1.difference(s2))"
   ]
  },
  {
   "cell_type": "markdown",
   "metadata": {},
   "source": [
    "### Modifying a Set\n",
    "***\n",
    "* s1.__<font color='blue'>update</font>__(s2) __or__  __<font color='green'>s1 |= s2 </font>__\n",
    "* s1.__<font color='blue'>intersection_update</font>__(s2)  __or__ __<font color='green'>s1 &= s2 </font>__ \n",
    "* s1.__<font color='blue'>difference_update</font>__(s2) __or__ __<font color='green'>s1 -= s2 </font>__ "
   ]
  },
  {
   "cell_type": "code",
   "execution_count": 8,
   "metadata": {
    "ExecuteTime": {
     "end_time": "2019-10-08T21:59:37.012263Z",
     "start_time": "2019-10-08T21:59:37.008331Z"
    }
   },
   "outputs": [
    {
     "name": "stdout",
     "output_type": "stream",
     "text": [
      "{'USA', 'HSE', 'MSU', 'RUSSIA'}\n",
      "{'USA', 'HSE', 'RUSSIA'}\n"
     ]
    }
   ],
   "source": [
    "# Update 1\n",
    "s1 = {'HSE', 'MSU'}\n",
    "s2 = {'USA', 'RUSSIA', 'HSE'}\n",
    "s1 |= s2 # s1.update(s2)\n",
    "print(s1)\n",
    "print(s2)"
   ]
  },
  {
   "cell_type": "code",
   "execution_count": 9,
   "metadata": {
    "ExecuteTime": {
     "end_time": "2019-10-08T21:59:37.018699Z",
     "start_time": "2019-10-08T21:59:37.014121Z"
    }
   },
   "outputs": [
    {
     "name": "stdout",
     "output_type": "stream",
     "text": [
      "{'HSE'}\n",
      "{'USA', 'HSE', 'RUSSIA'}\n"
     ]
    }
   ],
   "source": [
    "# Update 2\n",
    "s1 = {'HSE', 'MSU'}\n",
    "s2 = {'USA', 'RUSSIA', 'HSE'}\n",
    "s1.intersection_update(s2) # s1 &= s2\n",
    "print(s1)\n",
    "print(s2)"
   ]
  }
 ],
 "metadata": {
  "kernelspec": {
   "display_name": "Python 3",
   "language": "python",
   "name": "python3"
  },
  "language_info": {
   "codemirror_mode": {
    "name": "ipython",
    "version": 3
   },
   "file_extension": ".py",
   "mimetype": "text/x-python",
   "name": "python",
   "nbconvert_exporter": "python",
   "pygments_lexer": "ipython3",
   "version": "3.7.1"
  },
  "varInspector": {
   "cols": {
    "lenName": 16,
    "lenType": 16,
    "lenVar": 40
   },
   "kernels_config": {
    "python": {
     "delete_cmd_postfix": "",
     "delete_cmd_prefix": "del ",
     "library": "var_list.py",
     "varRefreshCmd": "print(var_dic_list())"
    },
    "r": {
     "delete_cmd_postfix": ") ",
     "delete_cmd_prefix": "rm(",
     "library": "var_list.r",
     "varRefreshCmd": "cat(var_dic_list()) "
    }
   },
   "types_to_exclude": [
    "module",
    "function",
    "builtin_function_or_method",
    "instance",
    "_Feature"
   ],
   "window_display": false
  }
 },
 "nbformat": 4,
 "nbformat_minor": 2
}
