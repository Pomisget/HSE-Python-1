{
 "cells": [
  {
   "cell_type": "markdown",
   "metadata": {},
   "source": [
    "### Словарь - Dictionary\n",
    "***\n",
    "* Словари могут расти и уменьшаться по мере необходимости.\n",
    "* Словари могут быть вложенными. Словарь может содержать другой словарь. Словарь также может содержать список, и наоборот.\n",
    "* Доступ к элементам словаря осуществляется с помощью __<font color='blue'>ключа</font>__."
   ]
  },
  {
   "cell_type": "markdown",
   "metadata": {},
   "source": [
    "### Creating and updating"
   ]
  },
  {
   "cell_type": "code",
   "execution_count": 1,
   "metadata": {
    "ExecuteTime": {
     "end_time": "2019-10-08T22:35:02.103623Z",
     "start_time": "2019-10-08T22:35:02.093839Z"
    }
   },
   "outputs": [
    {
     "name": "stdout",
     "output_type": "stream",
     "text": [
      "Russia USA\n",
      "{'Russia': 'Moscow', 'USA': 'Washington'}\n"
     ]
    }
   ],
   "source": [
    "capitals = dict()\n",
    "capitals = {'Russia' : 'Moscow', 'USA'   : 'Washington'}\n",
    "print(*capitals)\n",
    "print(capitals)"
   ]
  },
  {
   "cell_type": "code",
   "execution_count": 2,
   "metadata": {
    "ExecuteTime": {
     "end_time": "2019-10-08T22:35:02.116580Z",
     "start_time": "2019-10-08T22:35:02.111072Z"
    }
   },
   "outputs": [
    {
     "name": "stdout",
     "output_type": "stream",
     "text": [
      "{'Russia': 'Moscow', 'USA': 'Washington', 'Argentina': 'Buenos Aires'}\n"
     ]
    }
   ],
   "source": [
    "# Updating\n",
    "capitals['Argentina'] = 'Buenos Aires'\n",
    "print(capitals)"
   ]
  },
  {
   "cell_type": "markdown",
   "metadata": {},
   "source": [
    "### Deleting"
   ]
  },
  {
   "cell_type": "code",
   "execution_count": 3,
   "metadata": {
    "ExecuteTime": {
     "end_time": "2019-10-08T22:35:02.129334Z",
     "start_time": "2019-10-08T22:35:02.123847Z"
    }
   },
   "outputs": [
    {
     "name": "stdout",
     "output_type": "stream",
     "text": [
      "{'Russia': 'Moscow', 'Argentina': 'Buenos Aires'}\n"
     ]
    }
   ],
   "source": [
    "# Deleting\n",
    "del capitals['USA']\n",
    "print(capitals)"
   ]
  },
  {
   "cell_type": "markdown",
   "metadata": {},
   "source": [
    "### Method  get()"
   ]
  },
  {
   "cell_type": "code",
   "execution_count": 4,
   "metadata": {
    "ExecuteTime": {
     "end_time": "2019-10-08T22:35:02.134494Z",
     "start_time": "2019-10-08T22:35:02.131318Z"
    }
   },
   "outputs": [
    {
     "name": "stdout",
     "output_type": "stream",
     "text": [
      "Buenos Aires\n",
      "None\n"
     ]
    }
   ],
   "source": [
    "# Accesing without raising an error.\n",
    "print(capitals.get('Argentina'))\n",
    "print(capitals.get('Germany')) "
   ]
  },
  {
   "cell_type": "code",
   "execution_count": 5,
   "metadata": {
    "ExecuteTime": {
     "end_time": "2019-10-08T22:35:02.222994Z",
     "start_time": "2019-10-08T22:35:02.136085Z"
    }
   },
   "outputs": [
    {
     "ename": "KeyError",
     "evalue": "'Germany'",
     "output_type": "error",
     "traceback": [
      "\u001b[0;31m---------------------------------------------------------------------------\u001b[0m",
      "\u001b[0;31mKeyError\u001b[0m                                  Traceback (most recent call last)",
      "\u001b[0;32m<ipython-input-5-7ffbc3d38bde>\u001b[0m in \u001b[0;36m<module>\u001b[0;34m\u001b[0m\n\u001b[0;32m----> 1\u001b[0;31m \u001b[0mprint\u001b[0m\u001b[0;34m(\u001b[0m\u001b[0mcapitals\u001b[0m\u001b[0;34m[\u001b[0m\u001b[0;34m'Germany'\u001b[0m\u001b[0;34m]\u001b[0m\u001b[0;34m)\u001b[0m\u001b[0;34m\u001b[0m\u001b[0;34m\u001b[0m\u001b[0m\n\u001b[0m",
      "\u001b[0;31mKeyError\u001b[0m: 'Germany'"
     ]
    }
   ],
   "source": [
    "print(capitals['Germany'])"
   ]
  },
  {
   "cell_type": "markdown",
   "metadata": {},
   "source": [
    "### Method  items(), keys(), values()"
   ]
  },
  {
   "cell_type": "code",
   "execution_count": null,
   "metadata": {
    "ExecuteTime": {
     "end_time": "2019-10-08T22:35:02.231402Z",
     "start_time": "2019-10-08T22:35:02.083Z"
    }
   },
   "outputs": [],
   "source": [
    "print(list(capitals.items()))\n",
    "print(list(capitals.keys()))\n",
    "print(list(capitals.values()))"
   ]
  }
 ],
 "metadata": {
  "kernelspec": {
   "display_name": "Python 3",
   "language": "python",
   "name": "python3"
  },
  "language_info": {
   "codemirror_mode": {
    "name": "ipython",
    "version": 3
   },
   "file_extension": ".py",
   "mimetype": "text/x-python",
   "name": "python",
   "nbconvert_exporter": "python",
   "pygments_lexer": "ipython3",
   "version": "3.7.1"
  },
  "varInspector": {
   "cols": {
    "lenName": 16,
    "lenType": 16,
    "lenVar": 40
   },
   "kernels_config": {
    "python": {
     "delete_cmd_postfix": "",
     "delete_cmd_prefix": "del ",
     "library": "var_list.py",
     "varRefreshCmd": "print(var_dic_list())"
    },
    "r": {
     "delete_cmd_postfix": ") ",
     "delete_cmd_prefix": "rm(",
     "library": "var_list.r",
     "varRefreshCmd": "cat(var_dic_list()) "
    }
   },
   "types_to_exclude": [
    "module",
    "function",
    "builtin_function_or_method",
    "instance",
    "_Feature"
   ],
   "window_display": false
  }
 },
 "nbformat": 4,
 "nbformat_minor": 2
}
