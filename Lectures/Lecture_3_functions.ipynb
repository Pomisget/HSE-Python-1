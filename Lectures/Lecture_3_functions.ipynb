{
 "cells": [
  {
   "cell_type": "code",
   "execution_count": 1,
   "metadata": {
    "ExecuteTime": {
     "end_time": "2019-09-24T09:11:22.709406Z",
     "start_time": "2019-09-24T09:11:22.702817Z"
    }
   },
   "outputs": [
    {
     "name": "stdout",
     "output_type": "stream",
     "text": [
      "10 40 80\n"
     ]
    }
   ],
   "source": [
    "# Для эффективной разработки сложных (а на самом деле вообще любых) программных проектов важно уметь \n",
    "# разбивать программу на отдельные части, которые впоследствии будут многократно использоваться.\n",
    "# Одним из способов добиться повторного использования кода в Питоне - использование функций\n",
    "\n",
    "# Функция - это блок кода, который может вызваться из другой части программы, получить какие-то данные\n",
    "# каким-то образом из обработать и вернуть в место, откуда была вызвана функция, результат обработки\n",
    "\n",
    "# Пример:\n",
    "\n",
    "def doubled(number): # Для объявления используется ключевое слово def, далее название и после аргументы в скобках\n",
    "    result = number * 2 # обработка полученных данных. В данном случае полученное число умножается на 2\n",
    "    return result # Посчитанное число возвращается. Для этого используется ключевое слово return\n",
    "\n",
    "# Важно: весь код функции в Питоне должен быть отделен пробелами или табами\n",
    "\n",
    "a = 5\n",
    "b = doubled(a) # Вызов функции. После того, как функция закончит свою рабту, в b запишится вычисленное значение 10\n",
    "c = doubled(20) # Повторный вызов\n",
    "\n",
    "print(b, c, doubled(c)) # print - это кстати тоже функция."
   ]
  },
  {
   "cell_type": "code",
   "execution_count": 2,
   "metadata": {
    "ExecuteTime": {
     "end_time": "2019-09-24T09:11:22.941259Z",
     "start_time": "2019-09-24T09:11:22.934774Z"
    }
   },
   "outputs": [
    {
     "name": "stdout",
     "output_type": "stream",
     "text": [
      "20\n"
     ]
    }
   ],
   "source": [
    "def doubled(number):\n",
    "    return number * 2 # отдельная переменная result необязательна\n",
    "\n",
    "print(doubled(10))"
   ]
  },
  {
   "cell_type": "code",
   "execution_count": 3,
   "metadata": {
    "ExecuteTime": {
     "end_time": "2019-09-24T09:11:27.450818Z",
     "start_time": "2019-09-24T09:11:23.154624Z"
    }
   },
   "outputs": [
    {
     "name": "stdout",
     "output_type": "stream",
     "text": [
      "hello\n",
      "hello\n"
     ]
    }
   ],
   "source": [
    "# Вообще говоря функция может не получать вообще никаких аргументов\n",
    "# К примеру, функция input(), которая считывает пользовательский ввод и возвращает его вв виде строки\n",
    "a = input()\n",
    "print(a)"
   ]
  },
  {
   "cell_type": "code",
   "execution_count": 4,
   "metadata": {
    "ExecuteTime": {
     "end_time": "2019-09-24T09:11:28.753061Z",
     "start_time": "2019-09-24T09:11:28.746926Z"
    }
   },
   "outputs": [
    {
     "name": "stdout",
     "output_type": "stream",
     "text": [
      "Hello, User!\n",
      "None\n"
     ]
    }
   ],
   "source": [
    "def sayHello():\n",
    "    print(\"Hello, User!\")  # Функции, в которых нет return возвращают None\n",
    "    \n",
    "a = sayHello()\n",
    "print(a)"
   ]
  },
  {
   "cell_type": "code",
   "execution_count": 5,
   "metadata": {
    "ExecuteTime": {
     "end_time": "2019-09-24T09:11:28.950434Z",
     "start_time": "2019-09-24T09:11:28.942440Z"
    }
   },
   "outputs": [
    {
     "name": "stdout",
     "output_type": "stream",
     "text": [
      "15\n"
     ]
    }
   ],
   "source": [
    "# Пример: функция, считающая сумму натуральных чисел от 1 до n\n",
    "def sumTo(n):\n",
    "    result = 0\n",
    "    for i in range(1, n+1):\n",
    "        result += i\n",
    "    return result\n",
    "\n",
    "print(sumTo(5))"
   ]
  },
  {
   "cell_type": "code",
   "execution_count": 6,
   "metadata": {
    "ExecuteTime": {
     "end_time": "2019-09-24T09:11:29.260622Z",
     "start_time": "2019-09-24T09:11:29.155707Z"
    }
   },
   "outputs": [
    {
     "name": "stdout",
     "output_type": "stream",
     "text": [
      "2\n",
      "16\n"
     ]
    },
    {
     "ename": "NameError",
     "evalue": "name 'variable' is not defined",
     "output_type": "error",
     "traceback": [
      "\u001b[0;31m---------------------------------------------------------------------------\u001b[0m",
      "\u001b[0;31mNameError\u001b[0m                                 Traceback (most recent call last)",
      "\u001b[0;32m<ipython-input-6-cb90b647f495>\u001b[0m in \u001b[0;36m<module>\u001b[0;34m\u001b[0m\n\u001b[1;32m      7\u001b[0m \u001b[0;34m\u001b[0m\u001b[0m\n\u001b[1;32m      8\u001b[0m \u001b[0mprint\u001b[0m\u001b[0;34m(\u001b[0m\u001b[0mfunc1\u001b[0m\u001b[0;34m(\u001b[0m\u001b[0;36m4\u001b[0m\u001b[0;34m)\u001b[0m\u001b[0;34m)\u001b[0m\u001b[0;34m\u001b[0m\u001b[0;34m\u001b[0m\u001b[0m\n\u001b[0;32m----> 9\u001b[0;31m \u001b[0mprint\u001b[0m\u001b[0;34m(\u001b[0m\u001b[0mvariable\u001b[0m\u001b[0;34m)\u001b[0m \u001b[0;31m# variable не доступна вне функции\u001b[0m\u001b[0;34m\u001b[0m\u001b[0;34m\u001b[0m\u001b[0m\n\u001b[0m",
      "\u001b[0;31mNameError\u001b[0m: name 'variable' is not defined"
     ]
    }
   ],
   "source": [
    "# Все переменные, объявленные внутри функции являются локальными - то есть доступны только внутри функции\n",
    "\n",
    "def func1(a):\n",
    "    variable = 2\n",
    "    print(variable) # variable доступна внутри функции\n",
    "    return a ** variable\n",
    "\n",
    "print(func1(4))\n",
    "print(variable) # variable не доступна вне функции"
   ]
  },
  {
   "cell_type": "code",
   "execution_count": 7,
   "metadata": {
    "ExecuteTime": {
     "end_time": "2019-09-24T09:11:29.391338Z",
     "start_time": "2019-09-24T09:11:29.384049Z"
    }
   },
   "outputs": [
    {
     "name": "stdout",
     "output_type": "stream",
     "text": [
      "2\n",
      "16\n"
     ]
    }
   ],
   "source": [
    "# А вот функции напротив доступны переменные извне\n",
    "\n",
    "variable = 2\n",
    "\n",
    "def func1(a):\n",
    "    print(variable) # variable доступна внутри функции\n",
    "    return a ** variable\n",
    "\n",
    "print(func1(4))"
   ]
  },
  {
   "cell_type": "code",
   "execution_count": 8,
   "metadata": {
    "ExecuteTime": {
     "end_time": "2019-09-24T09:11:29.631662Z",
     "start_time": "2019-09-24T09:11:29.625410Z"
    }
   },
   "outputs": [
    {
     "name": "stdout",
     "output_type": "stream",
     "text": [
      "24\n"
     ]
    }
   ],
   "source": [
    "# Функция также может вызывать саму себя внутри себя (рекурсивно)\n",
    "# Классический пример: вычисление факториала числа (факториал - произведение чисел от 1 до n)\n",
    "def factorial(n):\n",
    "    if n == 0 :\n",
    "        return 1 # Факториал 0 мы считаем равным 1\n",
    "    return n * factorial(n-1)\n",
    "# Важно: при использовании рекурсивных функций необходимо указать условие выхода. \n",
    "# В противном случае, функция будет бесконечно вызывать себя (точнее сказать до того, как закончится память)\n",
    "# В данном примере, при достижении аргумента n нуля мы прекращаем рекурсию и возвращаем 1\n",
    "\n",
    "print(factorial(4))"
   ]
  },
  {
   "cell_type": "code",
   "execution_count": 9,
   "metadata": {
    "ExecuteTime": {
     "end_time": "2019-09-24T09:11:29.891135Z",
     "start_time": "2019-09-24T09:11:29.883689Z"
    }
   },
   "outputs": [
    {
     "name": "stdout",
     "output_type": "stream",
     "text": [
      "24\n"
     ]
    }
   ],
   "source": [
    "# Одна из неприятных особенностей рекурсивных функций - большое количество занимаемой памяти\n",
    "# из-за того, что нужно хранить значения локальных переменных для каждого вызова функции \n",
    "# Таким образом, если есть реализация функции не использующая рекурсивные вызовы - то в большинстве случаев\n",
    "# лучше отдать предпочнение ей\n",
    "\n",
    "def factorial2(n): # Альтернативная реализация факториала, не использующая рекурсивные вызовы\n",
    "    result = 1\n",
    "    for i in range(1, n+1):\n",
    "        result *= i\n",
    "    return result\n",
    "\n",
    "print(factorial2(4))"
   ]
  },
  {
   "cell_type": "code",
   "execution_count": 10,
   "metadata": {
    "ExecuteTime": {
     "end_time": "2019-09-24T09:11:30.123388Z",
     "start_time": "2019-09-24T09:11:30.115200Z"
    }
   },
   "outputs": [
    {
     "name": "stdout",
     "output_type": "stream",
     "text": [
      "15\n"
     ]
    }
   ],
   "source": [
    "def sumOfThree(a, b, c):\n",
    "    return a + b + c\n",
    "\n",
    "print(sumOfThree(3, 5, 7))"
   ]
  },
  {
   "cell_type": "code",
   "execution_count": 11,
   "metadata": {
    "ExecuteTime": {
     "end_time": "2019-09-24T09:11:30.369977Z",
     "start_time": "2019-09-24T09:11:30.359299Z"
    }
   },
   "outputs": [
    {
     "name": "stdout",
     "output_type": "stream",
     "text": [
      "#1 10 5#\n",
      "50\n",
      "#1 2 5#\n",
      "10\n",
      "#1 2 3#\n",
      "6\n"
     ]
    }
   ],
   "source": [
    "# Также у аргументов функции может быть значение по умолчанию - значение, которое принимает переменная\n",
    "# если ее не передали\n",
    "\n",
    "def mmultiply(a, b = 10, c = 5):\n",
    "    print(\"#{0} {1} {2}#\".format(a, b, c))\n",
    "    return a * b * c\n",
    "\n",
    "print(mmultiply(1))\n",
    "print(mmultiply(1, 2))\n",
    "print(mmultiply(1, 2, 3))"
   ]
  },
  {
   "cell_type": "code",
   "execution_count": 12,
   "metadata": {
    "ExecuteTime": {
     "end_time": "2019-09-24T09:11:30.579857Z",
     "start_time": "2019-09-24T09:11:30.572056Z"
    }
   },
   "outputs": [
    {
     "name": "stdout",
     "output_type": "stream",
     "text": [
      "S\n",
      "o\n",
      "m\n",
      "e\n",
      " \n",
      "t\n",
      "e\n",
      "x\n",
      "t\n"
     ]
    }
   ],
   "source": [
    "# Функции, конечно же, могут принимать не только числовые значения в качестве агрументов\n",
    "\n",
    "def writeInColumn(string):\n",
    "    for s in string:\n",
    "        print(s)\n",
    "\n",
    "writeInColumn(\"Some text\")"
   ]
  },
  {
   "cell_type": "code",
   "execution_count": 13,
   "metadata": {
    "ExecuteTime": {
     "end_time": "2019-09-24T09:11:30.760795Z",
     "start_time": "2019-09-24T09:11:30.751737Z"
    }
   },
   "outputs": [
    {
     "name": "stdout",
     "output_type": "stream",
     "text": [
      "(2, 3, 4)\n",
      "9\n",
      "(3, 5, 6, 7, 8, 9, 3)\n",
      "41\n",
      "()\n",
      "0\n",
      "(2,)\n",
      "2\n"
     ]
    }
   ],
   "source": [
    "# Функция вообще может принимать произвольное количество аргументов. Для этого необходимо поставить * перед агрументом\n",
    "\n",
    "def sumOfNumbers(*numbers): # number - это целый кортеж аргументов, которые были переданы в функцию\n",
    "    print(numbers)\n",
    "    result = 0\n",
    "    for n in numbers:\n",
    "        result += n\n",
    "    return result\n",
    "\n",
    "print(sumOfNumbers(2, 3, 4))\n",
    "print(sumOfNumbers(3, 5, 6, 7, 8, 9 ,3))\n",
    "print(sumOfNumbers()) # Передасться пустой список\n",
    "print(sumOfNumbers(2)) # Хоть аргумент всего один, передасться все равно кортеж с одним значением"
   ]
  },
  {
   "cell_type": "code",
   "execution_count": 14,
   "metadata": {
    "ExecuteTime": {
     "end_time": "2019-09-24T09:11:30.907064Z",
     "start_time": "2019-09-24T09:11:30.895263Z"
    }
   },
   "outputs": [
    {
     "name": "stdout",
     "output_type": "stream",
     "text": [
      "24\n",
      "10\n",
      "Операция \"пожанглировать\" не поддерживается\n",
      "-1\n"
     ]
    }
   ],
   "source": [
    "def mathematica(action, *numbers):\n",
    "    result = None\n",
    "    if action.lower() == \"сложить\":\n",
    "        result = 0\n",
    "        for n in numbers:\n",
    "            result += n\n",
    "    elif action.lower() == \"умножить\":\n",
    "        result = 1\n",
    "        for n in numbers:\n",
    "            result *= n\n",
    "    else:\n",
    "        print(\"Операция \\\"{0}\\\" не поддерживается\".format(action))\n",
    "        result = -1\n",
    "    return result\n",
    "\n",
    "print(mathematica(\"умножить\", 1, 2, 3, 4))\n",
    "print(mathematica(\"сложить\", 1, 2, 3, 4))\n",
    "print(mathematica(\"пожанглировать\", 1, 2, 3, 4))"
   ]
  },
  {
   "cell_type": "code",
   "execution_count": 15,
   "metadata": {
    "ExecuteTime": {
     "end_time": "2019-09-24T09:11:31.053512Z",
     "start_time": "2019-09-24T09:11:31.039639Z"
    }
   },
   "outputs": [
    {
     "ename": "TypeError",
     "evalue": "func2() missing 3 required keyword-only arguments: 'a', 'b', and 'c'",
     "output_type": "error",
     "traceback": [
      "\u001b[0;31m---------------------------------------------------------------------------\u001b[0m",
      "\u001b[0;31mTypeError\u001b[0m                                 Traceback (most recent call last)",
      "\u001b[0;32m<ipython-input-15-7bbd5745ee94>\u001b[0m in \u001b[0;36m<module>\u001b[0;34m\u001b[0m\n\u001b[1;32m      7\u001b[0m     \u001b[0;32mreturn\u001b[0m \u001b[0mresult\u001b[0m\u001b[0;34m\u001b[0m\u001b[0;34m\u001b[0m\u001b[0m\n\u001b[1;32m      8\u001b[0m \u001b[0;34m\u001b[0m\u001b[0m\n\u001b[0;32m----> 9\u001b[0;31m \u001b[0mfunc2\u001b[0m\u001b[0;34m(\u001b[0m\u001b[0;36m2\u001b[0m\u001b[0;34m,\u001b[0m \u001b[0;36m3\u001b[0m\u001b[0;34m,\u001b[0m \u001b[0;36m4\u001b[0m\u001b[0;34m,\u001b[0m \u001b[0;36m5\u001b[0m\u001b[0;34m,\u001b[0m \u001b[0;36m6\u001b[0m\u001b[0;34m,\u001b[0m \u001b[0;36m7\u001b[0m\u001b[0;34m)\u001b[0m\u001b[0;34m\u001b[0m\u001b[0;34m\u001b[0m\u001b[0m\n\u001b[0m",
      "\u001b[0;31mTypeError\u001b[0m: func2() missing 3 required keyword-only arguments: 'a', 'b', and 'c'"
     ]
    }
   ],
   "source": [
    "# Важно: после аргумента для произвольного количества аргументов не может быть других агрументов\n",
    "\n",
    "def func2(*args, a, b, c):\n",
    "    result = a + b + c\n",
    "    for i in args:\n",
    "        result += i\n",
    "    return result\n",
    "\n",
    "func2(2, 3, 4, 5, 6, 7)"
   ]
  },
  {
   "cell_type": "markdown",
   "metadata": {},
   "source": [
    "[here to vizialize](http://pythontutor.com/visualize.html#code=def%20add%28a,%20b%29%3A%0A%20%20%20%20return%20a%20%2B%20b%0Aa%20%3D%201&cumulative=false&curInstr=2&heapPrimitives=nevernest&mode=display&origin=opt-frontend.js&py=3&rawInputLstJSON=%5B%5D&textReferences=false)"
   ]
  },
  {
   "cell_type": "code",
   "execution_count": 16,
   "metadata": {
    "ExecuteTime": {
     "end_time": "2019-09-24T09:11:31.380363Z",
     "start_time": "2019-09-24T09:11:31.372240Z"
    }
   },
   "outputs": [
    {
     "name": "stdout",
     "output_type": "stream",
     "text": [
      "<function add at 0x117f6f730>\n",
      "7\n"
     ]
    }
   ],
   "source": [
    "# Интересный факт - сама функция является объектом\n",
    "\n",
    "def add(a, b):\n",
    "    return a + b\n",
    "\n",
    "x = add # Важно: без скобок! Иначе вызовется сама функция и в x запишется не она, а результат ее работы\n",
    "\n",
    "print(x)\n",
    "print(x(3, 4))"
   ]
  },
  {
   "cell_type": "code",
   "execution_count": null,
   "metadata": {},
   "outputs": [],
   "source": []
  }
 ],
 "metadata": {
  "kernel_info": {
   "name": "python3"
  },
  "kernelspec": {
   "display_name": "Python 3",
   "language": "python",
   "name": "python3"
  },
  "language_info": {
   "codemirror_mode": {
    "name": "ipython",
    "version": 3
   },
   "file_extension": ".py",
   "mimetype": "text/x-python",
   "name": "python",
   "nbconvert_exporter": "python",
   "pygments_lexer": "ipython3",
   "version": "3.7.1"
  },
  "nteract": {
   "version": "0.15.0"
  },
  "varInspector": {
   "cols": {
    "lenName": 16,
    "lenType": 16,
    "lenVar": 40
   },
   "kernels_config": {
    "python": {
     "delete_cmd_postfix": "",
     "delete_cmd_prefix": "del ",
     "library": "var_list.py",
     "varRefreshCmd": "print(var_dic_list())"
    },
    "r": {
     "delete_cmd_postfix": ") ",
     "delete_cmd_prefix": "rm(",
     "library": "var_list.r",
     "varRefreshCmd": "cat(var_dic_list()) "
    }
   },
   "types_to_exclude": [
    "module",
    "function",
    "builtin_function_or_method",
    "instance",
    "_Feature"
   ],
   "window_display": false
  }
 },
 "nbformat": 4,
 "nbformat_minor": 2
}
