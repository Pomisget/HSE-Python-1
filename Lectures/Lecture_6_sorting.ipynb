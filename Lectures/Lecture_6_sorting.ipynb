{
 "cells": [
  {
   "cell_type": "code",
   "execution_count": 1,
   "metadata": {},
   "outputs": [
    {
     "name": "stdout",
     "output_type": "stream",
     "text": [
      "[-2, 1, 1, 2, 6, 9]\n"
     ]
    }
   ],
   "source": [
    "# Simple sort\n",
    "a = [6, 1, 2, 9, 1, -2]\n",
    "a.sort()\n",
    "print(a)"
   ]
  },
  {
   "cell_type": "code",
   "execution_count": 2,
   "metadata": {},
   "outputs": [
    {
     "name": "stdout",
     "output_type": "stream",
     "text": [
      "[9, 6, 2, 1, 1, -2]\n"
     ]
    }
   ],
   "source": [
    "# Reversed sort\n",
    "a.sort(reverse=True)\n",
    "print(a)"
   ]
  },
  {
   "cell_type": "code",
   "execution_count": 3,
   "metadata": {},
   "outputs": [
    {
     "name": "stdout",
     "output_type": "stream",
     "text": [
      "[('Alex', 9), ('Anna', 7), ('Kira', 10), ('Max', 9)]\n"
     ]
    }
   ],
   "source": [
    "# Sorting complex structure\n",
    "a = [('Alex', 9), ('Anna', 7), ('Max', 9), ('Kira', 10)]\n",
    "\n",
    "\n",
    "def ByName(student):\n",
    "    return student[0]\n",
    "\n",
    "\n",
    "a.sort(key=ByName)\n",
    "print(a)"
   ]
  },
  {
   "cell_type": "code",
   "execution_count": 4,
   "metadata": {},
   "outputs": [
    {
     "name": "stdout",
     "output_type": "stream",
     "text": [
      "[('Anna', 7), ('Alex', 9), ('Max', 9), ('Kira', 10)]\n"
     ]
    }
   ],
   "source": [
    "# Sorting by lambda function. Sorting by score\n",
    "a.sort(key=lambda x: x[1])\n",
    "print(a)"
   ]
  },
  {
   "cell_type": "code",
   "execution_count": 5,
   "metadata": {},
   "outputs": [
    {
     "name": "stdout",
     "output_type": "stream",
     "text": [
      "[('Alex', 9), ('Anna', 7), ('Kira', 10), ('Max', 9)]\n"
     ]
    }
   ],
   "source": [
    "# Sorting by name\n",
    "a.sort(key=lambda x: x[0])\n",
    "print(a)"
   ]
  },
  {
   "cell_type": "code",
   "execution_count": 6,
   "metadata": {},
   "outputs": [
    {
     "data": {
      "text/plain": [
       "[('Anna', 7, 2),\n",
       " ('Alex', 9, 3),\n",
       " ('Tony', 9, 7),\n",
       " ('Max', 9, 8),\n",
       " ('Kira', 10, 10)]"
      ]
     },
     "execution_count": 6,
     "metadata": {},
     "output_type": "execute_result"
    }
   ],
   "source": [
    "a = [('Alex', 9, 3), ('Anna', 7, 2), ('Max', 9, 8), ('Kira', 10, 10), ('Tony', 9, 7)]\n",
    "a.sort(key=lambda x: (x[1], x[2]))\n",
    "a"
   ]
  },
  {
   "cell_type": "markdown",
   "metadata": {},
   "source": [
    "[here is visualization...](http://pythontutor.com/visualize.html#code=a%20%3D%20%5B%5B0%5D%20*%205%5D%20*%205%0Ab%20%3D%20%5B%5B0%20for%20j%20in%20range%285%29%5D%20for%20x%20in%20range%285%29%5D&cumulative=false&curInstr=50&heapPrimitives=nevernest&mode=display&origin=opt-frontend.js&py=3&rawInputLstJSON=%5B%5D&textReferences=false)"
   ]
  },
  {
   "cell_type": "code",
   "execution_count": 7,
   "metadata": {},
   "outputs": [
    {
     "name": "stdout",
     "output_type": "stream",
     "text": [
      "a: [[0, 0, 0], [0, 0, 0], [0, 0, 0]]\n",
      "b: [[0, 0, 0], [0, 0, 0], [0, 0, 0]]\n",
      "\n",
      "After editing:\n",
      "\n",
      "a: [[9, 0, 0], [9, 0, 0], [9, 0, 0]]\n",
      "b: [[0, 0, 0], [0, 0, 0], [0, 0, 0]]\n"
     ]
    }
   ],
   "source": [
    "# Some danger things...\n",
    "a = [[0] * 3] * 3\n",
    "b = [[0 for j in range(3)] for x in range(3)]\n",
    "\n",
    "print('a:', a)\n",
    "print('b:', b)\n",
    "\n",
    "a[0][0] = 9\n",
    "\n",
    "print('\\nAfter editing:\\n')\n",
    "\n",
    "print('a:', a)\n",
    "print('b:', b)"
   ]
  }
 ],
 "metadata": {
  "kernelspec": {
   "display_name": "Python 3",
   "language": "python",
   "name": "python3"
  },
  "language_info": {
   "codemirror_mode": {
    "name": "ipython",
    "version": 3
   },
   "file_extension": ".py",
   "mimetype": "text/x-python",
   "name": "python",
   "nbconvert_exporter": "python",
   "pygments_lexer": "ipython3",
   "version": "3.6.8"
  }
 },
 "nbformat": 4,
 "nbformat_minor": 2
}
