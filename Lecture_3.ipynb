{
  "cells": [
    {
      "cell_type": "code",
      "source": [
        "# Для эффективной разработки сложных (а на самом деле вообще любых) программных проектов важно уметь \n",
        "# разбивать программу на отдельные части, которые впоследствии будут многократно использоваться.\n",
        "# Одним из способов добиться повторного использования кода в Питоне - использование функций\n",
        "\n",
        "# Функция - это блок кода, который может вызваться из другой части программы, получить какие-то данные\n",
        "# каким-то образом из обработать и вернуть в место, откуда была вызвана функция, результат обработки\n",
        "\n",
        "# Пример:\n",
        "\n",
        "def doubled(number): # Для объявления используется ключевое слово def, далее название и после аргументы в скобках\n",
        "    result = number * 2 # обработка полученных данных. В данном случае полученное число умножается на 2\n",
        "    return result # Посчитанное число возвращается. Для этого используется ключевое слово return\n",
        "\n",
        "# Важно: весь код функции в Питоне должен быть отделен пробелами или табами\n",
        "\n",
        "a = 5\n",
        "b = doubled(a) # Вызов функции. После того, как функция закончит свою рабту, в b запишится вычисленное значение 10\n",
        "c = doubled(20) # Повторный вызов\n",
        "\n",
        "print(b, c, doubled(c)) # print - это кстати тоже функция."
      ],
      "outputs": [],
      "execution_count": null,
      "metadata": {}
    },
    {
      "cell_type": "code",
      "source": [
        "def doubled(number):\n",
        "    return number * 2 # отдельная переменная result необязательна\n",
        "\n",
        "print(doubled(10))"
      ],
      "outputs": [],
      "execution_count": null,
      "metadata": {}
    },
    {
      "cell_type": "code",
      "source": [
        "# Вообще говоря функция может не получать вообще никаких аргументов\n",
        "# К примеру, функция input(), которая считывает пользовательский ввод и возвращает его вв виде строки\n",
        "a = input()\n",
        "print(a)"
      ],
      "outputs": [],
      "execution_count": null,
      "metadata": {}
    },
    {
      "cell_type": "code",
      "source": [
        "def sayHello():\n",
        "    print(\"Hello, User!\")  # Функции, в которых нет return возвращают None\n",
        "    \n",
        "a = sayHello()\n",
        "print(a)"
      ],
      "outputs": [],
      "execution_count": null,
      "metadata": {}
    },
    {
      "cell_type": "code",
      "source": [
        "# Пример: функция, считающая сумму натуральных чисел от 1 до n\n",
        "def sumTo(n):\n",
        "    result = 0\n",
        "    for i in range(1, n+1):\n",
        "        result += i\n",
        "    return result\n",
        "\n",
        "print(sumTo(5))"
      ],
      "outputs": [],
      "execution_count": null,
      "metadata": {}
    },
    {
      "cell_type": "code",
      "source": [
        "# Все переменные, объявленные внутри функции являются локальными - то есть доступны только внутри функции\n",
        "\n",
        "def func1(a):\n",
        "    variable = 2\n",
        "    print(variable) # variable доступна внутри функции\n",
        "    return a ** variable\n",
        "\n",
        "print(func1(4))\n",
        "print(variable) # variable не доступна вне функции"
      ],
      "outputs": [],
      "execution_count": null,
      "metadata": {}
    },
    {
      "cell_type": "code",
      "source": [
        "# А вот функции напротив доступны переменные извне\n",
        "\n",
        "variable = 2\n",
        "\n",
        "def func1(a):\n",
        "    print(variable) # variable доступна внутри функции\n",
        "    return a ** variable\n",
        "\n",
        "print(func1(4))"
      ],
      "outputs": [],
      "execution_count": null,
      "metadata": {}
    },
    {
      "cell_type": "code",
      "source": [
        "# Функция также может вызывать саму себя внутри себя (рекурсивно)\n",
        "# Классический пример: вычисление факториала числа (факториал - произведение чисел от 1 до n)\n",
        "def factorial(n):\n",
        "    if n == 0 :\n",
        "        return 1 # Факториал 0 мы считаем равным 1\n",
        "    return n * factorial(n-1)\n",
        "# Важно: при использовании рекурсивных функций необходимо указать условие выхода. \n",
        "# В противном случае, функция будет бесконечно вызывать себя (точнее сказать до того, как закончится память)\n",
        "# В данном примере, при достижении аргумента n нуля мы прекращаем рекурсию и возвращаем 1\n",
        "\n",
        "print(factorial(4))"
      ],
      "outputs": [],
      "execution_count": null,
      "metadata": {}
    },
    {
      "cell_type": "code",
      "source": [
        "# Одна из неприятных особенностей рекурсивных функций - большое количество занимаемой памяти\n",
        "# из-за того, что нужно хранить значения локальных переменных для каждого вызова функции \n",
        "# Таким образом, если есть реализация функции не использующая рекурсивные вызовы - то в большинстве случаев\n",
        "# лучше отдать предпочнение ей\n",
        "\n",
        "def factorial2(n): # Альтернативная реализация факториала, не использующая рекурсивные вызовы\n",
        "    result = 1\n",
        "    for i in range(1, n+1):\n",
        "        result *= i\n",
        "    return result\n",
        "\n",
        "print(factorial2(4))"
      ],
      "outputs": [],
      "execution_count": null,
      "metadata": {}
    },
    {
      "cell_type": "code",
      "source": [
        "def sumOfThree(a, b, c):\n",
        "    return a + b + c\n",
        "\n",
        "print(sumOfThree(3, 5, 7))"
      ],
      "outputs": [],
      "execution_count": null,
      "metadata": {}
    },
    {
      "cell_type": "code",
      "source": [
        "# Также у аргументов функции может быть значение по умолчанию - значение, которое принимает переменная\n",
        "# если ее не передали\n",
        "\n",
        "def mmultiply(a, b = 10, c = 5):\n",
        "    print(\"#{0} {1} {2}#\".format(a, b, c))\n",
        "    return a * b * c\n",
        "\n",
        "print(mmultiply(1))\n",
        "print(mmultiply(1, 2))\n",
        "print(mmultiply(1, 2, 3))"
      ],
      "outputs": [],
      "execution_count": null,
      "metadata": {}
    },
    {
      "cell_type": "code",
      "source": [
        "# Функции, конечно же, могут принимать не только числовые значения в качестве агрументов\n",
        "\n",
        "def writeInColumn(string):\n",
        "    for s in string:\n",
        "        print(s)\n",
        "\n",
        "writeInColumn(\"Some text\")"
      ],
      "outputs": [],
      "execution_count": null,
      "metadata": {}
    },
    {
      "cell_type": "code",
      "source": [
        "# Функция вообще может принимать произвольное количество аргументов. Для этого необходимо поставить * перед агрументом\n",
        "\n",
        "def sumOfNumbers(*numbers): # number - это целый кортеж аргументов, которые были переданы в функцию\n",
        "    print(numbers)\n",
        "    result = 0\n",
        "    for n in numbers:\n",
        "        result += n\n",
        "    return result\n",
        "\n",
        "print(sumOfNumbers(2, 3, 4))\n",
        "print(sumOfNumbers(3, 5, 6, 7, 8, 9 ,3))\n",
        "print(sumOfNumbers()) # Передасться пустой список\n",
        "print(sumOfNumbers(2)) # Хоть аргумент всего один, передасться все равно кортеж с одним значением"
      ],
      "outputs": [],
      "execution_count": null,
      "metadata": {}
    },
    {
      "cell_type": "code",
      "source": [
        "def mathematica(action, *numbers):\n",
        "    result = None\n",
        "    if action.lower() == \"сложить\":\n",
        "        result = 0\n",
        "        for n in numbers:\n",
        "            result += n\n",
        "    elif action.lower() == \"умножить\":\n",
        "        result = 1\n",
        "        for n in numbers:\n",
        "            result *= n\n",
        "    else:\n",
        "        print(\"Операция \\\"{0}\\\" не поддерживается\".format(action))\n",
        "        result = -1\n",
        "    return result\n",
        "\n",
        "print(mathematica(\"умножить\", 1, 2, 3, 4))\n",
        "print(mathematica(\"сложить\", 1, 2, 3, 4))\n",
        "print(mathematica(\"пожанглировать\", 1, 2, 3, 4))"
      ],
      "outputs": [],
      "execution_count": null,
      "metadata": {}
    },
    {
      "cell_type": "code",
      "source": [
        "# Важно: после аргумента для произвольного количества аргументов не может быть других агрументов\n",
        "\n",
        "def func2(*args, a, b, c):\n",
        "    result = a + b + c\n",
        "    for i in args:\n",
        "        result += i\n",
        "    return result\n",
        "\n",
        "func2(2, 3, 4, 5, 6, 7)"
      ],
      "outputs": [],
      "execution_count": null,
      "metadata": {}
    },
    {
      "cell_type": "markdown",
      "source": [
        "[here to vizialize](http://pythontutor.com/visualize.html#code=def%20add%28a,%20b%29%3A%0A%20%20%20%20return%20a%20%2B%20b%0Aa%20%3D%201&cumulative=false&curInstr=2&heapPrimitives=nevernest&mode=display&origin=opt-frontend.js&py=3&rawInputLstJSON=%5B%5D&textReferences=false)"
      ],
      "metadata": {}
    },
    {
      "cell_type": "code",
      "source": [
        "# Интересный факт - сама функция является объектом\n",
        "\n",
        "def add(a, b):\n",
        "    return a + b\n",
        "\n",
        "x = add # Важно: без скобок! Иначе вызовется сама функция и в x запишется не она, а результат ее работы\n",
        "\n",
        "print(x)\n",
        "print(x(3, 4))"
      ],
      "outputs": [],
      "execution_count": null,
      "metadata": {}
    }
  ],
  "metadata": {
    "kernelspec": {
      "name": "python3",
      "language": "python",
      "display_name": "Python 3"
    },
    "language_info": {
      "name": "python",
      "version": "3.7.1",
      "mimetype": "text/x-python",
      "codemirror_mode": {
        "name": "ipython",
        "version": 3
      },
      "pygments_lexer": "ipython3",
      "nbconvert_exporter": "python",
      "file_extension": ".py"
    },
    "kernel_info": {
      "name": "python3"
    },
    "nteract": {
      "version": "0.15.0"
    }
  },
  "nbformat": 4,
  "nbformat_minor": 2
}