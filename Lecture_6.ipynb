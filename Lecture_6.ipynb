{
 "cells": [
  {
   "cell_type": "code",
   "execution_count": 1,
   "metadata": {},
   "outputs": [
    {
     "name": "stdout",
     "output_type": "stream",
     "text": [
      "[-2, 1, 1, 2, 6, 9]\n"
     ]
    }
   ],
   "source": [
    "# Simple sort\n",
    "a = [6, 1, 2, 9, 1, -2]\n",
    "a.sort()\n",
    "print(a)"
   ]
  },
  {
   "cell_type": "code",
   "execution_count": 2,
   "metadata": {},
   "outputs": [
    {
     "name": "stdout",
     "output_type": "stream",
     "text": [
      "[9, 6, 2, 1, 1, -2]\n"
     ]
    }
   ],
   "source": [
    "# Reversed sort\n",
    "a.sort(reverse=True)\n",
    "print(a)"
   ]
  },
  {
   "cell_type": "code",
   "execution_count": 3,
   "metadata": {},
   "outputs": [
    {
     "name": "stdout",
     "output_type": "stream",
     "text": [
      "[('Alex', 9), ('Anna', 7), ('Kira', 10), ('Max', 9)]\n"
     ]
    }
   ],
   "source": [
    "# Sorting complex structure\n",
    "a = [('Alex', 9), ('Anna', 7), ('Max', 9), ('Kira', 10)]\n",
    "\n",
    "\n",
    "def ByName(student):\n",
    "    return student[0]\n",
    "\n",
    "\n",
    "a.sort(key=ByName)\n",
    "print(a)"
   ]
  },
  {
   "cell_type": "code",
   "execution_count": 4,
   "metadata": {},
   "outputs": [
    {
     "name": "stdout",
     "output_type": "stream",
     "text": [
      "[('Anna', 7), ('Alex', 9), ('Max', 9), ('Kira', 10)]\n"
     ]
    }
   ],
   "source": [
    "# Sorting by lambda function. Sorting by score\n",
    "a.sort(key=lambda x: x[1])\n",
    "print(a)"
   ]
  },
  {
   "cell_type": "code",
   "execution_count": 5,
   "metadata": {},
   "outputs": [
    {
     "name": "stdout",
     "output_type": "stream",
     "text": [
      "[('Alex', 9), ('Anna', 7), ('Kira', 10), ('Max', 9)]\n"
     ]
    }
   ],
   "source": [
    "# Sorting by name\n",
    "a.sort(key=lambda x: x[0])\n",
    "print(a)"
   ]
  }
 ],
 "metadata": {
  "kernelspec": {
   "display_name": "Python 3",
   "language": "python",
   "name": "python3"
  },
  "language_info": {
   "codemirror_mode": {
    "name": "ipython",
    "version": 3
   },
   "file_extension": ".py",
   "mimetype": "text/x-python",
   "name": "python",
   "nbconvert_exporter": "python",
   "pygments_lexer": "ipython3",
   "version": "3.6.8"
  }
 },
 "nbformat": 4,
 "nbformat_minor": 2
}
