{
 "cells": [
  {
   "cell_type": "markdown",
   "metadata": {},
   "source": [
    "### Tuples - Кортеж\n",
    "\n",
    "1. Упорядоченная последовательность элементов, может смешивать различные типы элементов\n",
    "2. Элементы кортежа <font color='red'> неизменный! </font> \n",
    "3. Используется для возврата <font color= 'red'> более одного значения </font> из функции"
   ]
  },
  {
   "cell_type": "code",
   "execution_count": 1,
   "metadata": {},
   "outputs": [
    {
     "name": "stdout",
     "output_type": "stream",
     "text": [
      "HSE\n",
      "('HSE',)\n",
      "('HSE', 3)\n",
      "Items in Tuple t\n",
      "1\n",
      "HSE\n",
      "3\n"
     ]
    }
   ],
   "source": [
    "t = ()\n",
    "t = (1, \"HSE\", 3)\n",
    "print(t[1])\n",
    "print(t[1:2])\n",
    "print(t[1:3])\n",
    "\n",
    "print(\"Items in Tuple t\")\n",
    "\n",
    "for item in t:\n",
    "    print(item)"
   ]
  },
  {
   "cell_type": "code",
   "execution_count": 4,
   "metadata": {},
   "outputs": [
    {
     "name": "stdout",
     "output_type": "stream",
     "text": [
      "2 1\n"
     ]
    }
   ],
   "source": [
    "def quotient_remainder(x, y):\n",
    "    return (x // y, x % y)\n",
    "\n",
    "(q, r) = quotient_remainder(7, 3)\n",
    "\n",
    "print(q, r)"
   ]
  },
  {
   "cell_type": "markdown",
   "metadata": {},
   "source": [
    "### Lists"
   ]
  },
  {
   "cell_type": "code",
   "execution_count": 5,
   "metadata": {},
   "outputs": [
    {
     "name": "stdout",
     "output_type": "stream",
     "text": [
      "4\n",
      "a\n"
     ]
    }
   ],
   "source": [
    "L = [] # empty list\n",
    "L = [2, 'a', 4, [1, 3]]\n",
    "print(len(L))\n",
    "print(L[1])"
   ]
  },
  {
   "cell_type": "code",
   "execution_count": 6,
   "metadata": {},
   "outputs": [
    {
     "name": "stdout",
     "output_type": "stream",
     "text": [
      "2\n",
      "a\n",
      "4\n",
      "[1, 3]\n",
      "\n",
      "Another iteration method:\n",
      "2\n",
      "a\n",
      "4\n",
      "[1, 3]\n"
     ]
    }
   ],
   "source": [
    "for item in L:\n",
    "    print(item)\n",
    "    \n",
    "print('\\nAnother iteration method:')\n",
    "for i in range(len(L)):\n",
    "    print(L[i])"
   ]
  },
  {
   "cell_type": "markdown",
   "metadata": {},
   "source": [
    "### Some List operations\n",
    "   \n",
    "1. Чтобы добавить элемент в список, используйте <font color= 'blue'> L. append(element)</font>   \n",
    "2. Удалить элемент в определенном индексе с <font color= 'blue'> del (L [index]) </font>  \n",
    "3. Удалить элемент в конце списка с помощью <font color= 'blue'> L. pop () </font>, возвращает удаленный элемент\n",
    "4. Удалить определенный элемент с помощью <font color= 'blue' > L. удалить (элемент) </font> \n",
    "    * Ищет элемент и удаляет его\n",
    "    * Если элементы встречаются несколько раз, удаляет первое вхождение\n",
    "    * Если элемент не в списке, выдает ошибку"
   ]
  },
  {
   "cell_type": "code",
   "execution_count": 5,
   "metadata": {},
   "outputs": [
    {
     "data": {
      "text/plain": [
       "10"
      ]
     },
     "execution_count": 5,
     "metadata": {},
     "output_type": "execute_result"
    }
   ],
   "source": [
    "L = [2, 1, 3, 6, 3, 7, 10]\n",
    "L.remove(2) # L = [1, 3, 6, 3, 7, 10]\n",
    "L.remove(3) # L = [1, 6, 3, 7, 10]\n",
    "del(L[1])   # L = [1, 3, 7, 10]\n",
    "L.pop()     # L = [1, 3, 7] and return 10"
   ]
  },
  {
   "cell_type": "markdown",
   "metadata": {},
   "source": [
    "### Convert list to string and back"
   ]
  },
  {
   "cell_type": "code",
   "execution_count": 7,
   "metadata": {},
   "outputs": [
    {
     "name": "stdout",
     "output_type": "stream",
     "text": [
      "abc\n",
      "a_b_c\n"
     ]
    }
   ],
   "source": [
    "s = \"I<3 HSE\"\n",
    "L1 = list(s)      # ['I', '<', '3', ' ', 'H', 'S', 'E']\n",
    "L2 = s.split('<') # ['I', '3 HSE']\n",
    "\n",
    "L = ['a', 'b', 'c']\n",
    "\n",
    "s = ''.join(L)  # 'abc'\n",
    "print(s)\n",
    "\n",
    "s = '_'.join(L) # 'a_b_c'\n",
    "print(s)"
   ]
  },
  {
   "cell_type": "markdown",
   "metadata": {},
   "source": [
    "### Other List operations\n",
    "* <font color='blue'> sorted() </font> returns sorted list, does <font color='red'> not mutate </font> list\n",
    "* <font color='blue'> L.sort() </font> <font color='red'>mutates </font> L\n",
    "* <font color='blue'> reverse() </font> </font> <font color='red'>mutates </font> L\n",
    "* [example](http://pythontutor.com/visualize.html#code=score%20%3D%20%5B9,%206,%203,%201%5D%0Asorted_score%20%3D%20score.sort%28%29%0A%0Aprint%28'score%3A',%20score%29%0Aprint%28'sorted_score%3A',%20sorted_score%29%0A%0Aages%20%3D%20%5B23,%2018,%2024,%2022%5D%0Asorted_ages%20%3D%20sorted%28ages%29%0A%0Aprint%28'ages%3A',%20ages%29%0Aprint%28'sorted_ages%3A',%20sorted_ages%29%0A%0Aages.sort%28%29&cumulative=false&curInstr=0&heapPrimitives=nevernest&mode=display&origin=opt-frontend.js&py=3&rawInputLstJSON=%5B%5D&textReferences=)"
   ]
  },
  {
   "cell_type": "code",
   "execution_count": 7,
   "metadata": {},
   "outputs": [
    {
     "name": "stdout",
     "output_type": "stream",
     "text": [
      "score: [1, 3, 6, 9]\n",
      "sorted_score: None\n",
      "ages: [23, 18, 24, 22]\n",
      "sorted_ages: [18, 22, 23, 24]\n"
     ]
    }
   ],
   "source": [
    "score = [9, 6, 3, 1]\n",
    "sorted_score = score.sort()\n",
    "\n",
    "print('score:', score)\n",
    "print('sorted_score:', sorted_score)\n",
    "\n",
    "ages = [23, 18, 24, 22]\n",
    "sorted_ages = sorted(ages)\n",
    "\n",
    "print('ages:', ages)\n",
    "print('sorted_ages:', sorted_ages)\n",
    "\n",
    "ages.sort()"
   ]
  },
  {
   "cell_type": "markdown",
   "metadata": {},
   "source": [
    "### Aliasing [example](http://pythontutor.com/visualize.html#code=a%20%3D%20%5B'hse',%20'msu'%5D%0Ab%20%3D%20a%0A%0Ab.append%28'mipt'%29%0A%0Aprint%28a%29%0Aprint%28b%29&cumulative=false&curInstr=0&heapPrimitives=nevernest&mode=display&origin=opt-frontend.js&py=3&rawInputLstJSON=%5B%5D&textReferences=)\n",
    "<img src=\"images/1.png\">"
   ]
  },
  {
   "cell_type": "code",
   "execution_count": 9,
   "metadata": {},
   "outputs": [
    {
     "name": "stdout",
     "output_type": "stream",
     "text": [
      "['hse', 'msu', 'mipt']\n",
      "['hse', 'msu', 'mipt']\n"
     ]
    }
   ],
   "source": [
    "a = ['hse', 'msu']\n",
    "b = a\n",
    "\n",
    "b.append('mipt')\n",
    "\n",
    "print(a)\n",
    "print(b)"
   ]
  },
  {
   "cell_type": "markdown",
   "metadata": {},
   "source": [
    "### Cloning [example](http://pythontutor.com/visualize.html#code=a%20%3D%20%5B'hse',%20'msu'%5D%0Ab%20%3D%20a%5B%3A%5D%0A%0Ab.append%28'mipt'%29%0A%0Aprint%28a%29%0Aprint%28b%29&cumulative=false&curInstr=0&heapPrimitives=nevernest&mode=display&origin=opt-frontend.js&py=3&rawInputLstJSON=%5B%5D&textReferences=)\n",
    "<img src=\"images/2.png\">"
   ]
  },
  {
   "cell_type": "code",
   "execution_count": 10,
   "metadata": {},
   "outputs": [
    {
     "name": "stdout",
     "output_type": "stream",
     "text": [
      "['hse', 'msu']\n",
      "['hse', 'msu', 'mipt']\n"
     ]
    }
   ],
   "source": [
    "a = ['hse', 'msu']\n",
    "b = a[:]\n",
    "\n",
    "b.append('mipt')\n",
    "\n",
    "print(a)\n",
    "print(b)"
   ]
  },
  {
   "cell_type": "markdown",
   "metadata": {},
   "source": [
    "### List of lists of list ...\n",
    "[example](http://pythontutor.com/visualize.html#code=universities%20%3D%20%5B'hse',%20'msu'%5D%0Acolor%20%3D%20%5B'red'%5D%0Abrightcolor%20%3D%20%5Buniversities%5D%0Abrightcolor.append%28color%29%0Aprint%28brightcolor%29%0Acolor.append%28'yellow'%29%0Aprint%28color%29%0Aprint%28brightcolor%29&cumulative=false&curInstr=0&heapPrimitives=nevernest&mode=display&origin=opt-frontend.js&py=3&rawInputLstJSON=%5B%5D&textReferences=)"
   ]
  },
  {
   "cell_type": "code",
   "execution_count": 11,
   "metadata": {},
   "outputs": [
    {
     "name": "stdout",
     "output_type": "stream",
     "text": [
      "[['hse', 'msu'], ['red']]\n",
      "['red', 'yellow']\n",
      "[['hse', 'msu'], ['red', 'yellow']]\n"
     ]
    }
   ],
   "source": [
    "universities = ['hse', 'msu']\n",
    "color = ['red']\n",
    "brightcolor = [universities]\n",
    "brightcolor.append(color)\n",
    "print(brightcolor)\n",
    "color.append('yellow')\n",
    "print(color)\n",
    "print(brightcolor)"
   ]
  },
  {
   "cell_type": "markdown",
   "metadata": {},
   "source": [
    "### Mutation and iteration\n",
    "* <font color='red'> Avoid </font> mutating a list as you iterating over it\n",
    "* [example 1](http://pythontutor.com/visualize.html#code=def%20remove_duplicat%28L1,%20L2%29%3A%0A%20%20%20%20for%20e%20in%20L1%3A%0A%20%20%20%20%20%20%20%20if%20e%20in%20L2%3A%0A%20%20%20%20%20%20%20%20%20%20%20%20L1.remove%28e%29%0A%0AL1%20%3D%20%5B1,%202,%203,%204%5D%0AL2%20%3D%20%5B1,%202,%205,%206%5D%0Aremove_duplicat%28L1,%20L2%29%0Aprint%28%22L1%3A%22,%20L1%29%0Aprint%28%22L2%3A%22,%20L2%29&cumulative=false&curInstr=16&heapPrimitives=nevernest&mode=display&origin=opt-frontend.js&py=3&rawInputLstJSON=%5B%5D&textReferences=)\n",
    "* [example 2](http://pythontutor.com/visualize.html#code=def%20remove_duplicat%28L1,%20L2%29%3A%0A%20%20%20%20L1_copy%20%3D%20L1%5B%3A%5D%0A%20%20%20%20for%20e%20in%20L1_copy%3A%0A%20%20%20%20%20%20%20%20if%20e%20in%20L2%3A%0A%20%20%20%20%20%20%20%20%20%20%20%20L1.remove%28e%29%0A%0AL1%20%3D%20%5B1,%202,%203,%204%5D%0AL2%20%3D%20%5B1,%202,%205,%206%5D%0Aremove_duplicat%28L1,%20L2%29%0Aprint%28%22L1%3A%22,%20L1%29%0Aprint%28%22L2%3A%22,%20L2%29&cumulative=false&curInstr=0&heapPrimitives=nevernest&mode=display&origin=opt-frontend.js&py=3&rawInputLstJSON=%5B%5D&textReferences=)"
   ]
  },
  {
   "cell_type": "code",
   "execution_count": 12,
   "metadata": {},
   "outputs": [
    {
     "name": "stdout",
     "output_type": "stream",
     "text": [
      "L1: [2, 3, 4]\n",
      "L2: [1, 2, 5, 6]\n"
     ]
    }
   ],
   "source": [
    "def remove_duplicat(L1, L2):\n",
    "    for e in L1:\n",
    "        if e in L2:\n",
    "            L1.remove(e)\n",
    "\n",
    "L1 = [1, 2, 3, 4]\n",
    "L2 = [1, 2, 5, 6]\n",
    "remove_duplicat(L1, L2)\n",
    "print(\"L1:\", L1)\n",
    "print(\"L2:\", L2)"
   ]
  },
  {
   "cell_type": "code",
   "execution_count": 15,
   "metadata": {},
   "outputs": [
    {
     "name": "stdout",
     "output_type": "stream",
     "text": [
      "L1: [3, 4]\n",
      "L2: [1, 2, 5, 6]\n"
     ]
    }
   ],
   "source": [
    "def remove_duplicat(L1, L2):\n",
    "    L1_copy = L1[:]\n",
    "    for e in L1_copy:\n",
    "        if e in L2:\n",
    "            L1.remove(e)\n",
    "\n",
    "L1 = [1, 2, 3, 4]\n",
    "L2 = [1, 2, 5, 6]\n",
    "remove_duplicat(L1, L2)\n",
    "print(\"L1:\", L1)\n",
    "print(\"L2:\", L2)"
   ]
  },
  {
   "cell_type": "markdown",
   "metadata": {},
   "source": [
    "### Some examples\n",
    "\n",
    "[example 1](http://pythontutor.com/visualize.html#code=L1%20%3D%20%5B're'%5D%0AL2%20%3D%20%5B'mi'%5D%0AL3%20%3D%20%5B'do'%5D%0AL4%20%3D%20L1%20%2B%20L2%0AL3.extend%28L4%29%0AL3.sort%28%29%0Adel%28L3%5B0%5D%29%0AL3.append%28%5B'fa',%20'la'%5D%29&cumulative=false&curInstr=8&heapPrimitives=nevernest&mode=display&origin=opt-frontend.js&py=3&rawInputLstJSON=%5B%5D&textReferences=)\n",
    "\n",
    "[example 2](http://pythontutor.com/visualize.html#code=L1%20%3D%20%5B'hse',%20'msu'%5D%0AL2%20%3D%20%5B'ru',%20'eng'%5D%0A%0AL3%20%3D%20L1%0AL1.append%28'mipt'%29%0AL3.extend%28L2%29&cumulative=false&curInstr=5&heapPrimitives=nevernest&mode=display&origin=opt-frontend.js&py=3&rawInputLstJSON=%5B%5D&textReferences=)"
   ]
  },
  {
   "cell_type": "code",
   "execution_count": 17,
   "metadata": {},
   "outputs": [],
   "source": [
    "L1 = ['re']\n",
    "L2 = ['mi']\n",
    "L3 = ['do']\n",
    "L4 = L1 + L2\n",
    "L3.extend(L4)\n",
    "L3.sort()\n",
    "del(L3[0])\n",
    "L3.append(['fa', 'la'])"
   ]
  }
 ],
 "metadata": {
  "kernel_info": {
   "name": "python3"
  },
  "kernelspec": {
   "display_name": "Python 3",
   "language": "python",
   "name": "python3"
  },
  "language_info": {
   "codemirror_mode": {
    "name": "ipython",
    "version": 3
   },
   "file_extension": ".py",
   "mimetype": "text/x-python",
   "name": "python",
   "nbconvert_exporter": "python",
   "pygments_lexer": "ipython3",
   "version": "3.6.8"
  },
  "nteract": {
   "version": "0.15.0"
  }
 },
 "nbformat": 4,
 "nbformat_minor": 2
}
